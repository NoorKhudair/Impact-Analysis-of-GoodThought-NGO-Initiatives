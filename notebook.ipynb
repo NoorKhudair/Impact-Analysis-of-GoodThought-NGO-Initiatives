{
 "cells": [
  {
   "cell_type": "markdown",
   "id": "2e55e8d3-9be5-45e7-b858-1084251c9be2",
   "metadata": {},
   "source": [
    "# Listing the top five assignments based on total value of donations, categorized by donor type."
   ]
  },
  {
   "cell_type": "code",
   "execution_count": 6,
   "id": "b9c29e39-7d27-4a41-b9f6-553eb2881519",
   "metadata": {
    "customType": "sql",
    "dataFrameVariableName": "highest_donation_assignments",
    "executionCancelledAt": null,
    "executionTime": 1087,
    "lastExecutedAt": 1739892354061,
    "lastExecutedByKernel": "06f69901-baf4-48d0-935a-ad7b5e53ac20",
    "lastScheduledRunId": null,
    "lastSuccessfullyExecutedCode": "-- highest_donation_assignments\n\nSELECT a.assignment_name, a.region , ROUND(SUM(d1.amount),2) AS rounded_total_donation_amount, d2.donor_type\nFROM assignments AS a\nINNER JOIN donations AS d1\nON a.assignment_id=d1.assignment_id\nINNER JOIN donors AS d2\nON d1.donor_id=d2.donor_id\nGROUP BY a.assignment_name, a.region , d2.donor_type\nORDER BY rounded_total_donation_amount DESC\nLIMIT 5",
    "outputsMetadata": {
     "0": {
      "height": 550,
      "tableState": {
       "customFilter": {
        "const": {
         "type": "boolean",
         "valid": true,
         "value": true
        },
        "id": "2e1e299f-04c9-4e41-8fc6-14f1a1e09d90",
        "nodeType": "const"
       },
       "quickFilterText": ""
      },
      "type": "dataFrame"
     }
    },
    "sqlCellMode": "dataFrame",
    "sqlSource": {
     "integrationId": "89e17161-a224-4a8a-846b-0adc0fe7a4b1",
     "integrationType": "postgresql",
     "type": "integration"
    }
   },
   "outputs": [
    {
     "data": {
      "application/com.datacamp.data-table.v2+json": {
       "table": {
        "data": {
         "assignment_name": [
          "Assignment_3033",
          "Assignment_300",
          "Assignment_4114",
          "Assignment_1765",
          "Assignment_268"
         ],
         "donor_type": [
          "Individual",
          "Organization",
          "Organization",
          "Organization",
          "Individual"
         ],
         "index": [
          0,
          1,
          2,
          3,
          4
         ],
         "region": [
          "East",
          "West",
          "North",
          "West",
          "East"
         ],
         "rounded_total_donation_amount": [
          3840.66,
          3133.98,
          2778.57,
          2626.98,
          2488.69
         ]
        },
        "schema": {
         "fields": [
          {
           "name": "index",
           "type": "integer"
          },
          {
           "name": "assignment_name",
           "type": "string"
          },
          {
           "name": "region",
           "type": "string"
          },
          {
           "name": "rounded_total_donation_amount",
           "type": "number"
          },
          {
           "name": "donor_type",
           "type": "string"
          }
         ],
         "pandas_version": "1.4.0",
         "primaryKey": [
          "index"
         ]
        }
       },
       "total_rows": 5,
       "truncation_type": null
      },
      "text/html": [
       "<div>\n",
       "<style scoped>\n",
       "    .dataframe tbody tr th:only-of-type {\n",
       "        vertical-align: middle;\n",
       "    }\n",
       "\n",
       "    .dataframe tbody tr th {\n",
       "        vertical-align: top;\n",
       "    }\n",
       "\n",
       "    .dataframe thead th {\n",
       "        text-align: right;\n",
       "    }\n",
       "</style>\n",
       "<table border=\"1\" class=\"dataframe\">\n",
       "  <thead>\n",
       "    <tr style=\"text-align: right;\">\n",
       "      <th></th>\n",
       "      <th>assignment_name</th>\n",
       "      <th>region</th>\n",
       "      <th>rounded_total_donation_amount</th>\n",
       "      <th>donor_type</th>\n",
       "    </tr>\n",
       "  </thead>\n",
       "  <tbody>\n",
       "    <tr>\n",
       "      <th>0</th>\n",
       "      <td>Assignment_3033</td>\n",
       "      <td>East</td>\n",
       "      <td>3840.66</td>\n",
       "      <td>Individual</td>\n",
       "    </tr>\n",
       "    <tr>\n",
       "      <th>1</th>\n",
       "      <td>Assignment_300</td>\n",
       "      <td>West</td>\n",
       "      <td>3133.98</td>\n",
       "      <td>Organization</td>\n",
       "    </tr>\n",
       "    <tr>\n",
       "      <th>2</th>\n",
       "      <td>Assignment_4114</td>\n",
       "      <td>North</td>\n",
       "      <td>2778.57</td>\n",
       "      <td>Organization</td>\n",
       "    </tr>\n",
       "    <tr>\n",
       "      <th>3</th>\n",
       "      <td>Assignment_1765</td>\n",
       "      <td>West</td>\n",
       "      <td>2626.98</td>\n",
       "      <td>Organization</td>\n",
       "    </tr>\n",
       "    <tr>\n",
       "      <th>4</th>\n",
       "      <td>Assignment_268</td>\n",
       "      <td>East</td>\n",
       "      <td>2488.69</td>\n",
       "      <td>Individual</td>\n",
       "    </tr>\n",
       "  </tbody>\n",
       "</table>\n",
       "</div>"
      ],
      "text/plain": [
       "   assignment_name region  rounded_total_donation_amount    donor_type\n",
       "0  Assignment_3033   East                        3840.66    Individual\n",
       "1   Assignment_300   West                        3133.98  Organization\n",
       "2  Assignment_4114  North                        2778.57  Organization\n",
       "3  Assignment_1765   West                        2626.98  Organization\n",
       "4   Assignment_268   East                        2488.69    Individual"
      ]
     },
     "execution_count": 6,
     "metadata": {
      "application/com.datacamp.data-table.v2+json": {
       "status": "success"
      }
     },
     "output_type": "execute_result"
    }
   ],
   "source": [
    "-- highest_donation_assignments\n",
    "\n",
    "SELECT a.assignment_name, a.region , ROUND(SUM(d1.amount),2) AS rounded_total_donation_amount, d2.donor_type\n",
    "FROM assignments AS a\n",
    "INNER JOIN donations AS d1\n",
    "ON a.assignment_id=d1.assignment_id\n",
    "INNER JOIN donors AS d2\n",
    "ON d1.donor_id=d2.donor_id\n",
    "GROUP BY a.assignment_name, a.region , d2.donor_type\n",
    "ORDER BY rounded_total_donation_amount DESC\n",
    "LIMIT 5"
   ]
  },
  {
   "cell_type": "markdown",
   "id": "2e6cef49-669e-42ca-ad9c-f8e2701b6fd3",
   "metadata": {},
   "source": [
    "# identifying the assignment with the highest impact score in each region, ensuring that each listed assignment has received at least one donation."
   ]
  },
  {
   "cell_type": "code",
   "execution_count": 7,
   "id": "7ffa5c94-fda1-4b9d-b8f3-a6442b00e423",
   "metadata": {
    "customType": "sql",
    "dataFrameVariableName": "top_regional_impact_assignments",
    "executionCancelledAt": null,
    "executionTime": 917,
    "lastExecutedAt": 1739892354978,
    "lastExecutedByKernel": "06f69901-baf4-48d0-935a-ad7b5e53ac20",
    "lastScheduledRunId": null,
    "lastSuccessfullyExecutedCode": "WITH total AS (SELECT assignment_id,COUNT(*) AS num_total_donations\nFROM  donations \nGROUP BY assignment_id)\n\n, ranked AS(\nSELECT assignment_name,assignment_id,\n\tregion,\n\timpact_score,\n\tROW_NUMBER() OVER (PARTITION BY region\n\t\t\tORDER BY impact_score DESC) AS rank\n\tFROM assignments)\n\n\nSELECT r.assignment_name,r.region, r.impact_score, t.num_total_donations\nFROM total AS t \nINNER JOIN ranked AS r\nON t.assignment_id=r.assignment_id\nWHERE r.rank=1\nORDER BY r.region ASC;",
    "outputsMetadata": {
     "0": {
      "height": 550,
      "tableState": {
       "customFilter": {
        "const": {
         "type": "boolean",
         "valid": true,
         "value": true
        },
        "id": "2e1e299f-04c9-4e41-8fc6-14f1a1e09d90",
        "nodeType": "const"
       },
       "quickFilterText": ""
      },
      "type": "dataFrame"
     }
    },
    "sqlCellMode": "dataFrame",
    "sqlSource": {
     "integrationId": "89e17161-a224-4a8a-846b-0adc0fe7a4b1",
     "integrationType": "postgresql",
     "type": "integration"
    }
   },
   "outputs": [
    {
     "data": {
      "application/com.datacamp.data-table.v2+json": {
       "table": {
        "data": {
         "assignment_name": [
          "Assignment_316",
          "Assignment_2253",
          "Assignment_3547",
          "Assignment_3764"
         ],
         "impact_score": [
          10,
          9.99,
          10,
          9.99
         ],
         "index": [
          0,
          1,
          2,
          3
         ],
         "num_total_donations": [
          2,
          1,
          1,
          1
         ],
         "region": [
          "East",
          "North",
          "South",
          "West"
         ]
        },
        "schema": {
         "fields": [
          {
           "name": "index",
           "type": "integer"
          },
          {
           "name": "assignment_name",
           "type": "string"
          },
          {
           "name": "region",
           "type": "string"
          },
          {
           "name": "impact_score",
           "type": "number"
          },
          {
           "name": "num_total_donations",
           "type": "integer"
          }
         ],
         "pandas_version": "1.4.0",
         "primaryKey": [
          "index"
         ]
        }
       },
       "total_rows": 4,
       "truncation_type": null
      },
      "text/html": [
       "<div>\n",
       "<style scoped>\n",
       "    .dataframe tbody tr th:only-of-type {\n",
       "        vertical-align: middle;\n",
       "    }\n",
       "\n",
       "    .dataframe tbody tr th {\n",
       "        vertical-align: top;\n",
       "    }\n",
       "\n",
       "    .dataframe thead th {\n",
       "        text-align: right;\n",
       "    }\n",
       "</style>\n",
       "<table border=\"1\" class=\"dataframe\">\n",
       "  <thead>\n",
       "    <tr style=\"text-align: right;\">\n",
       "      <th></th>\n",
       "      <th>assignment_name</th>\n",
       "      <th>region</th>\n",
       "      <th>impact_score</th>\n",
       "      <th>num_total_donations</th>\n",
       "    </tr>\n",
       "  </thead>\n",
       "  <tbody>\n",
       "    <tr>\n",
       "      <th>0</th>\n",
       "      <td>Assignment_316</td>\n",
       "      <td>East</td>\n",
       "      <td>10.00</td>\n",
       "      <td>2</td>\n",
       "    </tr>\n",
       "    <tr>\n",
       "      <th>1</th>\n",
       "      <td>Assignment_2253</td>\n",
       "      <td>North</td>\n",
       "      <td>9.99</td>\n",
       "      <td>1</td>\n",
       "    </tr>\n",
       "    <tr>\n",
       "      <th>2</th>\n",
       "      <td>Assignment_3547</td>\n",
       "      <td>South</td>\n",
       "      <td>10.00</td>\n",
       "      <td>1</td>\n",
       "    </tr>\n",
       "    <tr>\n",
       "      <th>3</th>\n",
       "      <td>Assignment_3764</td>\n",
       "      <td>West</td>\n",
       "      <td>9.99</td>\n",
       "      <td>1</td>\n",
       "    </tr>\n",
       "  </tbody>\n",
       "</table>\n",
       "</div>"
      ],
      "text/plain": [
       "   assignment_name region  impact_score  num_total_donations\n",
       "0   Assignment_316   East         10.00                    2\n",
       "1  Assignment_2253  North          9.99                    1\n",
       "2  Assignment_3547  South         10.00                    1\n",
       "3  Assignment_3764   West          9.99                    1"
      ]
     },
     "execution_count": 7,
     "metadata": {
      "application/com.datacamp.data-table.v2+json": {
       "status": "success"
      }
     },
     "output_type": "execute_result"
    }
   ],
   "source": [
    "WITH total AS (SELECT assignment_id,COUNT(*) AS num_total_donations\n",
    "FROM  donations \n",
    "GROUP BY assignment_id)\n",
    "\n",
    ", ranked AS(\n",
    "SELECT assignment_name,assignment_id,\n",
    "\tregion,\n",
    "\timpact_score,\n",
    "\tROW_NUMBER() OVER (PARTITION BY region\n",
    "\t\t\tORDER BY impact_score DESC) AS rank\n",
    "\tFROM assignments)\n",
    "\n",
    "\n",
    "SELECT r.assignment_name,r.region, r.impact_score, t.num_total_donations\n",
    "FROM total AS t \n",
    "INNER JOIN ranked AS r\n",
    "ON t.assignment_id=r.assignment_id\n",
    "WHERE r.rank=1\n",
    "ORDER BY r.region ASC;"
   ]
  }
 ],
 "metadata": {
  "colab": {
   "name": "Welcome to DataCamp Workspaces.ipynb",
   "provenance": []
  },
  "kernelspec": {
   "display_name": "Python 3 (ipykernel)",
   "language": "python",
   "name": "python3"
  },
  "language_info": {
   "codemirror_mode": {
    "name": "ipython",
    "version": 3
   },
   "file_extension": ".py",
   "mimetype": "text/x-python",
   "name": "python",
   "nbconvert_exporter": "python",
   "pygments_lexer": "ipython3",
   "version": "3.8.10"
  }
 },
 "nbformat": 4,
 "nbformat_minor": 5
}
